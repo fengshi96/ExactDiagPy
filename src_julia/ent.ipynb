{
 "cells": [
  {
   "cell_type": "code",
   "execution_count": 1,
   "metadata": {},
   "outputs": [],
   "source": [
    "using LinearAlgebra\n",
    "using HDF5"
   ]
  },
  {
   "cell_type": "code",
   "execution_count": 2,
   "metadata": {},
   "outputs": [
    {
     "data": {
      "text/plain": [
       "basisPartition (generic function with 1 method)"
      ]
     },
     "execution_count": 2,
     "metadata": {},
     "output_type": "execute_result"
    }
   ],
   "source": [
    "function basisPartition(wf, sysIndx, nSites)\n",
    "\n",
    "    nSys = size(sysIndx)[1]\n",
    "    envIndx = [i for i = 1:nSites]\n",
    "    for i = 1:nSys\n",
    "        filter!(e->e≠sysIndx[i], envIndx)\n",
    "    end\n",
    "    nEnv = size(envIndx)[1]\n",
    "    \n",
    "    @assert nSys + nEnv == nSites\n",
    "    \n",
    "    dimDof = 2\n",
    "    dimHilSys = dimDof^nSys\n",
    "    dimHilEnv = dimDof^nEnv\n",
    "\n",
    "    sysBitConfig = zeros(Bool, (dimHilSys, nSites))\n",
    "    envBitConfig = zeros(Bool, (dimHilEnv, nSites))\n",
    "\n",
    "    axisScalar = ones(UInt32, nSites)  # UInt32: upto 2^32 (32 sites ED)\n",
    "    for i = 1 : nSites\n",
    "        axisScalar[nSites + 1 - i] *= dimDof^(i - 1)\n",
    "    end\n",
    "\n",
    "    for i = 1 : dimDof^nSys\n",
    "        upperpad::Int = size(digits(dimDof^(nSys - 1), base = 2))[1]\n",
    "        exBits = digits(i-1, base = 2, pad = upperpad)  # expose bits' position for sys dofs\n",
    "\n",
    "        for j = 1 : size(sysIndx)[1]\n",
    "            sysBitConfig[i, sysIndx[j]] = exBits[j]\n",
    "        end\n",
    "\n",
    "    end\n",
    "\n",
    "    for i = 1 : dimDof^nEnv\n",
    "        upperpad::Int = size(digits(dimDof^(nEnv - 1), base = 2))[1]\n",
    "        exBits = digits(i-1, base = 2, pad = upperpad)  # expose bits' position for evn dofs\n",
    "\n",
    "        for j = 1 : size(envIndx)[1]\n",
    "            envBitConfig[i, envIndx[j]] = exBits[j]\n",
    "        end\n",
    "\n",
    "    end\n",
    "\n",
    "\n",
    "    @assert dimHilSys == size(sysBitConfig)[1]\n",
    "    @assert dimHilEnv == size(envBitConfig)[1]\n",
    "\n",
    "\n",
    "    # Index matrix\n",
    "    matIndx = zeros(UInt32, (dimHilSys, dimHilEnv))    # UInt32: upto 2^32 (32 sites ED)\n",
    "\n",
    "    for i = 1 : dimHilSys\n",
    "        for j = 1 : dimHilEnv\n",
    "            matIndx[i,j] = sum((sysBitConfig[i,:] + envBitConfig[j,:]).* axisScalar) + 1 # +1 is because 1-based\n",
    "        end\n",
    "    end\n",
    "    \n",
    "    # wavefunction as matrix\n",
    "    wf_as_mat = zeros(Complex{Float64}, (dimHilSys, dimHilEnv))\n",
    "    \n",
    "    for i = 1 : dimHilSys\n",
    "        for j = 1 : dimHilEnv\n",
    "            wf_as_mat[i,j] = wf[matIndx[i,j]]\n",
    "        end\n",
    "    end\n",
    "    \n",
    "    return wf_as_mat\n",
    "end"
   ]
  },
  {
   "cell_type": "code",
   "execution_count": 3,
   "metadata": {},
   "outputs": [
    {
     "name": "stdout",
     "output_type": "stream",
     "text": [
      "ee = Float32[0.5901132, 0.75179315, 0.90519303, 1.0285116, 1.109273, 1.126989, 1.1446508, 1.1407921, 1.154656]\n"
     ]
    },
    {
     "data": {
      "text/plain": [
       "9-element Array{Float32,1}:\n",
       " 0.5901132\n",
       " 0.75179315\n",
       " 0.90519303\n",
       " 1.0285116\n",
       " 1.109273\n",
       " 1.126989\n",
       " 1.1446508\n",
       " 1.1407921\n",
       " 1.154656"
      ]
     },
     "execution_count": 3,
     "metadata": {},
     "output_type": "execute_result"
    }
   ],
   "source": [
    "# For continuous index partition\n",
    "hd5 = h5open(\"../dataSpec.hdf5\",\"r\")\n",
    "dset=hd5[\"3.Eigen/Wavefunctions\"]\n",
    "gs=read(dset)\n",
    "close(hd5)\n",
    "\n",
    "ee = Float32[]\n",
    "sysIndx = Int8[]\n",
    "for i = 1 : 9\n",
    "    push!(sysIndx, i)\n",
    "    wf_as_mat = basisPartition(gs, sysIndx, 18)\n",
    "    \n",
    "    rdm = wf_as_mat * adjoint(wf_as_mat)\n",
    "    entS = eigvals(rdm)\n",
    "    topop = count(i->(i<0), entS)\n",
    "    PentS = entS[topop+1:end]  # popped out negative values\n",
    "\n",
    "     vN = - transpose(PentS) * log.(PentS)\n",
    "    push!(ee, vN)\n",
    "end\n",
    "\n",
    "@show ee"
   ]
  },
  {
   "cell_type": "code",
   "execution_count": 6,
   "metadata": {},
   "outputs": [
    {
     "name": "stdout",
     "output_type": "stream",
     "text": [
      "  0.509682 seconds (5.24 M allocations: 974.015 MiB, 22.78% gc time)\n",
      "size(wf_as_mat) = (2, 524288)\n"
     ]
    }
   ],
   "source": [
    "# For discrete index partition\n",
    "hd5 = h5open(\"../dataSpec.hdf5\",\"r\")\n",
    "dset=hd5[\"3.Eigen/Wavefunctions\"]\n",
    "evec=read(dset)\n",
    "sysIndx = Int8[1]\n",
    "@time wf_as_mat = basisPartition(evec, sysIndx, 20)\n",
    "@show size(wf_as_mat);\n",
    "close(hd5)"
   ]
  },
  {
   "cell_type": "code",
   "execution_count": 7,
   "metadata": {},
   "outputs": [
    {
     "data": {
      "text/plain": [
       "0.6750665976888718"
      ]
     },
     "execution_count": 7,
     "metadata": {},
     "output_type": "execute_result"
    }
   ],
   "source": [
    "# then trace out enironment\n",
    "rdm = wf_as_mat * adjoint(wf_as_mat)\n",
    "entS = eigvals(rdm)\n",
    "topop = count(i->(i<0), entS)\n",
    "PentS = entS[topop+1:end]  # popped out negative values\n",
    "- transpose(PentS) * log.(PentS)"
   ]
  },
  {
   "cell_type": "code",
   "execution_count": null,
   "metadata": {},
   "outputs": [],
   "source": []
  }
 ],
 "metadata": {
  "kernelspec": {
   "display_name": "Julia 1.4.2",
   "language": "julia",
   "name": "julia-1.4"
  },
  "language_info": {
   "file_extension": ".jl",
   "mimetype": "application/julia",
   "name": "julia",
   "version": "1.4.2"
  }
 },
 "nbformat": 4,
 "nbformat_minor": 2
}
